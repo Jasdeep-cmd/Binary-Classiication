{
 "cells": [
  {
   "cell_type": "code",
   "execution_count": 1,
   "metadata": {
    "_cell_guid": "b1076dfc-b9ad-4769-8c92-a6c4dae69d19",
    "_uuid": "8f2839f25d086af736a60e9eeb907d3b93b6e0e5",
    "execution": {
     "iopub.execute_input": "2021-03-10T18:08:46.146851Z",
     "iopub.status.busy": "2021-03-10T18:08:46.146081Z",
     "iopub.status.idle": "2021-03-10T18:08:46.152853Z",
     "shell.execute_reply": "2021-03-10T18:08:46.153375Z"
    },
    "papermill": {
     "duration": 0.024912,
     "end_time": "2021-03-10T18:08:46.153746",
     "exception": false,
     "start_time": "2021-03-10T18:08:46.128834",
     "status": "completed"
    },
    "tags": []
   },
   "outputs": [
    {
     "name": "stdout",
     "output_type": "stream",
     "text": [
      "/kaggle/input/minor-project-2021/sample_submission.csv\n",
      "/kaggle/input/minor-project-2021/train.csv\n",
      "/kaggle/input/minor-project-2021/test.csv\n"
     ]
    }
   ],
   "source": [
    "# This Python 3 environment comes with many helpful analytics libraries installed\n",
    "# It is defined by the kaggle/python Docker image: https://github.com/kaggle/docker-python\n",
    "# For example, here's several helpful packages to load\n",
    "\n",
    "import numpy as np # linear algebra\n",
    "import pandas as pd # data processing, CSV file I/O (e.g. pd.read_csv)\n",
    "\n",
    "# Input data files are available in the read-only \"../input/\" directory\n",
    "# For example, running this (by clicking run or pressing Shift+Enter) will list all files under the input directory\n",
    "\n",
    "import os\n",
    "for dirname, _, filenames in os.walk('/kaggle/input'):\n",
    "    for filename in filenames:\n",
    "        print(os.path.join(dirname, filename))\n",
    "\n",
    "# You can write up to 20GB to the current directory (/kaggle/working/) that gets preserved as output when you create a version using \"Save & Run All\" \n",
    "# You can also write temporary files to /kaggle/temp/, but they won't be saved outside of the current session"
   ]
  },
  {
   "cell_type": "code",
   "execution_count": 2,
   "metadata": {
    "execution": {
     "iopub.execute_input": "2021-03-10T18:08:46.178262Z",
     "iopub.status.busy": "2021-03-10T18:08:46.177536Z",
     "iopub.status.idle": "2021-03-10T18:08:47.960905Z",
     "shell.execute_reply": "2021-03-10T18:08:47.960321Z"
    },
    "papermill": {
     "duration": 1.796182,
     "end_time": "2021-03-10T18:08:47.961078",
     "exception": false,
     "start_time": "2021-03-10T18:08:46.164896",
     "status": "completed"
    },
    "tags": []
   },
   "outputs": [],
   "source": [
    "import warnings\n",
    "warnings.filterwarnings(\"ignore\")\n",
    "import sys\n",
    "import sklearn\n",
    "import random\n",
    "random.seed(42)\n",
    "np.random.seed(42)\n",
    "import imblearn\n",
    "import seaborn as sns"
   ]
  },
  {
   "cell_type": "code",
   "execution_count": 3,
   "metadata": {
    "execution": {
     "iopub.execute_input": "2021-03-10T18:08:47.985824Z",
     "iopub.status.busy": "2021-03-10T18:08:47.985057Z",
     "iopub.status.idle": "2021-03-10T18:08:49.008778Z",
     "shell.execute_reply": "2021-03-10T18:08:49.009321Z"
    },
    "papermill": {
     "duration": 1.039256,
     "end_time": "2021-03-10T18:08:49.009570",
     "exception": false,
     "start_time": "2021-03-10T18:08:47.970314",
     "status": "completed"
    },
    "tags": []
   },
   "outputs": [],
   "source": [
    "train_data=pd.read_csv(\"/kaggle/input/minor-project-2021/train.csv\")\n",
    "test_data = pd.read_csv(\"/kaggle/input/minor-project-2021/test.csv\")\n",
    "\n",
    "\n"
   ]
  },
  {
   "cell_type": "code",
   "execution_count": 4,
   "metadata": {
    "execution": {
     "iopub.execute_input": "2021-03-10T18:08:49.033016Z",
     "iopub.status.busy": "2021-03-10T18:08:49.032363Z",
     "iopub.status.idle": "2021-03-10T18:08:49.095508Z",
     "shell.execute_reply": "2021-03-10T18:08:49.094791Z"
    },
    "papermill": {
     "duration": 0.076118,
     "end_time": "2021-03-10T18:08:49.095660",
     "exception": false,
     "start_time": "2021-03-10T18:08:49.019542",
     "status": "completed"
    },
    "tags": []
   },
   "outputs": [],
   "source": [
    "train_data.fillna(value=train_data.mean(),inplace=True)\n",
    "\n",
    "test_data.fillna(value=test_data.mean(),inplace=True)\n"
   ]
  },
  {
   "cell_type": "code",
   "execution_count": 5,
   "metadata": {
    "execution": {
     "iopub.execute_input": "2021-03-10T18:08:49.124357Z",
     "iopub.status.busy": "2021-03-10T18:08:49.123677Z",
     "iopub.status.idle": "2021-03-10T18:08:49.128154Z",
     "shell.execute_reply": "2021-03-10T18:08:49.127569Z"
    },
    "papermill": {
     "duration": 0.022541,
     "end_time": "2021-03-10T18:08:49.128327",
     "exception": false,
     "start_time": "2021-03-10T18:08:49.105786",
     "status": "completed"
    },
    "tags": []
   },
   "outputs": [],
   "source": [
    "col=['Result']\n",
    "y=np.array(train_data[col],dtype=np.int64)\n"
   ]
  },
  {
   "cell_type": "code",
   "execution_count": 6,
   "metadata": {
    "execution": {
     "iopub.execute_input": "2021-03-10T18:08:49.162627Z",
     "iopub.status.busy": "2021-03-10T18:08:49.161979Z",
     "iopub.status.idle": "2021-03-10T18:08:49.167171Z",
     "shell.execute_reply": "2021-03-10T18:08:49.166556Z"
    },
    "papermill": {
     "duration": 0.029112,
     "end_time": "2021-03-10T18:08:49.167342",
     "exception": false,
     "start_time": "2021-03-10T18:08:49.138230",
     "status": "completed"
    },
    "tags": []
   },
   "outputs": [],
   "source": [
    "X=train_data.iloc[ : , :100]\n",
    "X_test=test_data.iloc[:, :100]\n"
   ]
  },
  {
   "cell_type": "code",
   "execution_count": 7,
   "metadata": {
    "execution": {
     "iopub.execute_input": "2021-03-10T18:08:49.202181Z",
     "iopub.status.busy": "2021-03-10T18:08:49.193933Z",
     "iopub.status.idle": "2021-03-10T18:08:49.210579Z",
     "shell.execute_reply": "2021-03-10T18:08:49.209993Z"
    },
    "papermill": {
     "duration": 0.03306,
     "end_time": "2021-03-10T18:08:49.210740",
     "exception": false,
     "start_time": "2021-03-10T18:08:49.177680",
     "status": "completed"
    },
    "tags": []
   },
   "outputs": [],
   "source": [
    "from sklearn.model_selection import train_test_split\n",
    "\n",
    "X_train,X_val,y_train,y_val = train_test_split(X,y,test_size=0.25,random_state=42)\n"
   ]
  },
  {
   "cell_type": "code",
   "execution_count": 8,
   "metadata": {
    "execution": {
     "iopub.execute_input": "2021-03-10T18:08:49.240498Z",
     "iopub.status.busy": "2021-03-10T18:08:49.239259Z",
     "iopub.status.idle": "2021-03-10T18:08:49.276554Z",
     "shell.execute_reply": "2021-03-10T18:08:49.275978Z"
    },
    "papermill": {
     "duration": 0.05583,
     "end_time": "2021-03-10T18:08:49.276699",
     "exception": false,
     "start_time": "2021-03-10T18:08:49.220869",
     "status": "completed"
    },
    "tags": []
   },
   "outputs": [],
   "source": [
    "from sklearn.preprocessing import StandardScaler\n",
    "scaler = StandardScaler()        \n",
    "X_train = scaler.fit_transform(X_train) \n"
   ]
  },
  {
   "cell_type": "code",
   "execution_count": 9,
   "metadata": {
    "execution": {
     "iopub.execute_input": "2021-03-10T18:08:49.304752Z",
     "iopub.status.busy": "2021-03-10T18:08:49.304089Z",
     "iopub.status.idle": "2021-03-10T18:09:59.881816Z",
     "shell.execute_reply": "2021-03-10T18:09:59.880998Z"
    },
    "papermill": {
     "duration": 70.595335,
     "end_time": "2021-03-10T18:09:59.882027",
     "exception": false,
     "start_time": "2021-03-10T18:08:49.286692",
     "status": "completed"
    },
    "tags": []
   },
   "outputs": [],
   "source": [
    "from sklearn.model_selection import GridSearchCV\n",
    "from sklearn.ensemble import RandomForestClassifier\n",
    "from sklearn.metrics import make_scorer\n",
    "from sklearn.metrics import accuracy_score\n",
    "clf = RandomForestClassifier()\n",
    "\n",
    "parameters = {'n_estimators':[10,50,100]}    \n",
    "\n",
    "scorer = make_scorer(accuracy_score)         \n",
    "\n",
    "grid_obj = GridSearchCV(clf,parameters,scoring=scorer)  \n",
    "\n",
    "\n",
    "grid_fit = grid_obj.fit(X_train,y_train)\n",
    "best_clf = grid_fit.best_estimator_ \n"
   ]
  },
  {
   "cell_type": "code",
   "execution_count": 10,
   "metadata": {
    "execution": {
     "iopub.execute_input": "2021-03-10T18:09:59.913830Z",
     "iopub.status.busy": "2021-03-10T18:09:59.912635Z",
     "iopub.status.idle": "2021-03-10T18:09:59.962563Z",
     "shell.execute_reply": "2021-03-10T18:09:59.963088Z"
    },
    "papermill": {
     "duration": 0.070352,
     "end_time": "2021-03-10T18:09:59.963326",
     "exception": false,
     "start_time": "2021-03-10T18:09:59.892974",
     "status": "completed"
    },
    "tags": []
   },
   "outputs": [],
   "source": [
    "X_test=scaler.transform(X_test)\n",
    "pred = best_clf.predict(X_test) \n"
   ]
  },
  {
   "cell_type": "code",
   "execution_count": 11,
   "metadata": {
    "execution": {
     "iopub.execute_input": "2021-03-10T18:09:59.991424Z",
     "iopub.status.busy": "2021-03-10T18:09:59.990736Z",
     "iopub.status.idle": "2021-03-10T18:09:59.994482Z",
     "shell.execute_reply": "2021-03-10T18:09:59.993932Z"
    },
    "papermill": {
     "duration": 0.019707,
     "end_time": "2021-03-10T18:09:59.994652",
     "exception": false,
     "start_time": "2021-03-10T18:09:59.974945",
     "status": "completed"
    },
    "tags": []
   },
   "outputs": [],
   "source": [
    "id=test_data['id'].tolist()\n",
    "\n"
   ]
  },
  {
   "cell_type": "code",
   "execution_count": 12,
   "metadata": {
    "execution": {
     "iopub.execute_input": "2021-03-10T18:10:00.031209Z",
     "iopub.status.busy": "2021-03-10T18:10:00.030067Z",
     "iopub.status.idle": "2021-03-10T18:10:00.046683Z",
     "shell.execute_reply": "2021-03-10T18:10:00.046140Z"
    },
    "papermill": {
     "duration": 0.041379,
     "end_time": "2021-03-10T18:10:00.046853",
     "exception": false,
     "start_time": "2021-03-10T18:10:00.005474",
     "status": "completed"
    },
    "tags": []
   },
   "outputs": [
    {
     "data": {
      "text/html": [
       "<div>\n",
       "<style scoped>\n",
       "    .dataframe tbody tr th:only-of-type {\n",
       "        vertical-align: middle;\n",
       "    }\n",
       "\n",
       "    .dataframe tbody tr th {\n",
       "        vertical-align: top;\n",
       "    }\n",
       "\n",
       "    .dataframe thead th {\n",
       "        text-align: right;\n",
       "    }\n",
       "</style>\n",
       "<table border=\"1\" class=\"dataframe\">\n",
       "  <thead>\n",
       "    <tr style=\"text-align: right;\">\n",
       "      <th></th>\n",
       "      <th>id</th>\n",
       "      <th>Expected</th>\n",
       "    </tr>\n",
       "  </thead>\n",
       "  <tbody>\n",
       "    <tr>\n",
       "      <th>0</th>\n",
       "      <td>0</td>\n",
       "      <td>1</td>\n",
       "    </tr>\n",
       "    <tr>\n",
       "      <th>1</th>\n",
       "      <td>1</td>\n",
       "      <td>1</td>\n",
       "    </tr>\n",
       "    <tr>\n",
       "      <th>2</th>\n",
       "      <td>2</td>\n",
       "      <td>1</td>\n",
       "    </tr>\n",
       "    <tr>\n",
       "      <th>3</th>\n",
       "      <td>3</td>\n",
       "      <td>1</td>\n",
       "    </tr>\n",
       "    <tr>\n",
       "      <th>4</th>\n",
       "      <td>4</td>\n",
       "      <td>1</td>\n",
       "    </tr>\n",
       "    <tr>\n",
       "      <th>...</th>\n",
       "      <td>...</td>\n",
       "      <td>...</td>\n",
       "    </tr>\n",
       "    <tr>\n",
       "      <th>3704</th>\n",
       "      <td>3704</td>\n",
       "      <td>1</td>\n",
       "    </tr>\n",
       "    <tr>\n",
       "      <th>3705</th>\n",
       "      <td>3705</td>\n",
       "      <td>1</td>\n",
       "    </tr>\n",
       "    <tr>\n",
       "      <th>3706</th>\n",
       "      <td>3706</td>\n",
       "      <td>1</td>\n",
       "    </tr>\n",
       "    <tr>\n",
       "      <th>3707</th>\n",
       "      <td>3707</td>\n",
       "      <td>1</td>\n",
       "    </tr>\n",
       "    <tr>\n",
       "      <th>3708</th>\n",
       "      <td>3708</td>\n",
       "      <td>1</td>\n",
       "    </tr>\n",
       "  </tbody>\n",
       "</table>\n",
       "<p>3709 rows × 2 columns</p>\n",
       "</div>"
      ],
      "text/plain": [
       "        id  Expected\n",
       "0        0         1\n",
       "1        1         1\n",
       "2        2         1\n",
       "3        3         1\n",
       "4        4         1\n",
       "...    ...       ...\n",
       "3704  3704         1\n",
       "3705  3705         1\n",
       "3706  3706         1\n",
       "3707  3707         1\n",
       "3708  3708         1\n",
       "\n",
       "[3709 rows x 2 columns]"
      ]
     },
     "execution_count": 12,
     "metadata": {},
     "output_type": "execute_result"
    }
   ],
   "source": [
    "data={'id':id,'Expected':pred}\n",
    "result=pd.DataFrame(data,columns = ['id','Expected'])\n",
    "result\n"
   ]
  },
  {
   "cell_type": "code",
   "execution_count": 13,
   "metadata": {
    "execution": {
     "iopub.execute_input": "2021-03-10T18:10:00.078854Z",
     "iopub.status.busy": "2021-03-10T18:10:00.077806Z",
     "iopub.status.idle": "2021-03-10T18:10:00.092435Z",
     "shell.execute_reply": "2021-03-10T18:10:00.092988Z"
    },
    "papermill": {
     "duration": 0.032828,
     "end_time": "2021-03-10T18:10:00.093216",
     "exception": false,
     "start_time": "2021-03-10T18:10:00.060388",
     "status": "completed"
    },
    "tags": []
   },
   "outputs": [],
   "source": [
    "result.to_csv('submit.csv',index=False)"
   ]
  }
 ],
 "metadata": {
  "kernelspec": {
   "display_name": "Python 3",
   "language": "python",
   "name": "python3"
  },
  "language_info": {
   "codemirror_mode": {
    "name": "ipython",
    "version": 3
   },
   "file_extension": ".py",
   "mimetype": "text/x-python",
   "name": "python",
   "nbconvert_exporter": "python",
   "pygments_lexer": "ipython3",
   "version": "3.7.9"
  },
  "papermill": {
   "default_parameters": {},
   "duration": 81.330091,
   "end_time": "2021-03-10T18:10:01.018537",
   "environment_variables": {},
   "exception": null,
   "input_path": "__notebook__.ipynb",
   "output_path": "__notebook__.ipynb",
   "parameters": {},
   "start_time": "2021-03-10T18:08:39.688446",
   "version": "2.2.2"
  }
 },
 "nbformat": 4,
 "nbformat_minor": 4
}
